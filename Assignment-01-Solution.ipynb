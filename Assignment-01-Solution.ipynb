{
 "cells": [
  {
   "cell_type": "markdown",
   "id": "45513c87-37b7-407f-8e9a-db0b5ec3f7dc",
   "metadata": {},
   "source": [
    "# Refresher Course - Data Science\n",
    "## Assignment 1"
   ]
  },
  {
   "cell_type": "markdown",
   "id": "67e6d63e-1c04-47c9-9616-c5f09ccd577d",
   "metadata": {},
   "source": [
    "#### 1. Write a program to read Celsius temperature and print equivalent Fahrenheit temperate on screen. "
   ]
  },
  {
   "cell_type": "code",
   "execution_count": 7,
   "id": "7625ae5c-2d92-43bb-91bf-3562428d2599",
   "metadata": {},
   "outputs": [
    {
     "name": "stdin",
     "output_type": "stream",
     "text": [
      "Enter Temperature in Celsius:  -40\n"
     ]
    },
    {
     "name": "stdout",
     "output_type": "stream",
     "text": [
      "Equivalent Temperature in Fahrenheit is -40.00\n"
     ]
    }
   ],
   "source": [
    "temp_c = float(input('Enter Temperature in Celsius: '))\n",
    "temp_f = temp_c*9/5 + 32\n",
    "\n",
    "print('Equivalent Temperature in Fahrenheit is %.2f' % (temp_f))"
   ]
  },
  {
   "cell_type": "markdown",
   "id": "6aac4f91-adf6-48ed-94e6-2e72fd8dd46b",
   "metadata": {},
   "source": [
    "#### 2. Read radius of the circle from user and find the area and perimeter of it."
   ]
  },
  {
   "cell_type": "code",
   "execution_count": 8,
   "id": "9b5d67f6-4959-46e2-88f8-479b0b92f133",
   "metadata": {},
   "outputs": [
    {
     "name": "stdin",
     "output_type": "stream",
     "text": [
      "Enter radius of the circle:  2\n"
     ]
    },
    {
     "name": "stdout",
     "output_type": "stream",
     "text": [
      "Area of circle with radius 2.00 is 12.57 and it's circumference is 12.57\n"
     ]
    }
   ],
   "source": [
    "from math import pi\n",
    "\n",
    "radius        = float(input('Enter radius of the circle: '))\n",
    "area          = pi*radius*radius\n",
    "circumference = 2*pi*radius\n",
    "\n",
    "print('Area of circle with radius %.2f is %.2f and it\\'s circumference is %.2f' % (radius, area, circumference)) "
   ]
  },
  {
   "cell_type": "markdown",
   "id": "bad5ab67-eaef-4902-a774-42220679af1b",
   "metadata": {},
   "source": [
    "#### 3. Read the amount and percentage of interest from the keyboard and find final amount after adding interest in original amount."
   ]
  },
  {
   "cell_type": "code",
   "execution_count": 9,
   "id": "9c54c4ff-fa25-44dc-b324-3ff9a65cd638",
   "metadata": {},
   "outputs": [
    {
     "name": "stdin",
     "output_type": "stream",
     "text": [
      "Enter principal amount:  200\n",
      "Enter interest rate in %:  10\n"
     ]
    },
    {
     "name": "stdout",
     "output_type": "stream",
     "text": [
      "Final amount is 220.00\n"
     ]
    }
   ],
   "source": [
    "principal = float(input('Enter principal amount: '))\n",
    "interest  = float(input('Enter interest rate in %: '))\n",
    "\n",
    "final_amt = principal*(1 + interest/100)\n",
    "print('Final amount is %.2f' % (final_amt))"
   ]
  },
  {
   "cell_type": "markdown",
   "id": "742d23d9-da83-48e5-840f-31c6e726fa22",
   "metadata": {},
   "source": [
    "#### 4. Write a program to read distance value in meters and convert it into centimeters, inches, and yards."
   ]
  },
  {
   "cell_type": "code",
   "execution_count": 12,
   "id": "7ef7354c-f0b2-4ce4-a1d6-f0c7e1a2bde3",
   "metadata": {},
   "outputs": [
    {
     "name": "stdin",
     "output_type": "stream",
     "text": [
      "Enter distance in meters:  1\n"
     ]
    },
    {
     "name": "stdout",
     "output_type": "stream",
     "text": [
      "1.00 meters ≡ 100.00 centimeters ≅ 39.37 inches ≅ 1.09 yards\n"
     ]
    }
   ],
   "source": [
    "dist_mt = float(input('Enter distance in meters: '))\n",
    "\n",
    "dist_cm = dist_mt*100\n",
    "dist_in = dist_mt*39.3701\n",
    "dist_yd = dist_mt*1.09361\n",
    "\n",
    "print('%.2f meters \\u2261 %.2f centimeters \\u2245 %.2f inches \\u2245 %.2f yards' % (dist_mt, dist_cm, dist_in, dist_yd))"
   ]
  },
  {
   "cell_type": "markdown",
   "id": "a08bdcfa-ef59-4d50-b74e-9960cc234250",
   "metadata": {},
   "source": [
    "#### 5. Write a Python program to calculate profit or loss. Input is selling cost and actual cost of a product."
   ]
  },
  {
   "cell_type": "code",
   "execution_count": 15,
   "id": "39884630-5220-41c3-b91d-427aa3db0481",
   "metadata": {},
   "outputs": [
    {
     "name": "stdin",
     "output_type": "stream",
     "text": [
      "Enter selling cost:  12\n",
      "Enter actual cost:  23\n"
     ]
    },
    {
     "name": "stdout",
     "output_type": "stream",
     "text": [
      "You have made loss of 11.00\n"
     ]
    }
   ],
   "source": [
    "selling_cost = float(input('Enter selling cost: '))\n",
    "actual_cost  = float(input('Enter actual cost: '))\n",
    "\n",
    "if selling_cost > actual_cost:\n",
    "    print('You have made profif of %.2f' % (selling_cost - actual_cost))\n",
    "elif selling_cost < actual_cost:\n",
    "    print('You have made loss of %.2f' % (actual_cost - selling_cost))\n",
    "else:\n",
    "    print('It\\'s zero sum transaction')"
   ]
  },
  {
   "cell_type": "markdown",
   "id": "e80f4edd-75e9-4872-ad37-8cff00dc31e7",
   "metadata": {},
   "source": [
    "#### 6. Write a program to input basic salary and find output of gross salary using following:\n",
    "- **DA = 75% of basic**\n",
    "- **HRA = 20% of basic**\n",
    "#### Conditions:\n",
    "- **Basic < 10000 : gross = da + basic**\n",
    "- **Basic >= 10000 and < 20000 : gross = da + basic + 50% of hra**\n",
    "- **Basic >= 20000 : gross = basic + da + hra**\n",
    "---\n",
    "Sample: Input and Output \n",
    "- 5000 : 3750 + 5000 = 8750 \n",
    "- 12000 : 9000 + 12000 + 1200 = 22200 \n",
    "- 24000 : 18000 + 24000 + 4800 = 46800"
   ]
  },
  {
   "cell_type": "code",
   "execution_count": 19,
   "id": "49ef6262-4eb1-4328-921c-5e8c85468ccd",
   "metadata": {},
   "outputs": [
    {
     "name": "stdin",
     "output_type": "stream",
     "text": [
      "Enter basic salary:  20000\n"
     ]
    },
    {
     "name": "stdout",
     "output_type": "stream",
     "text": [
      "Gross salary is 39000.00\n"
     ]
    }
   ],
   "source": [
    "basic = float(input('Enter basic salary: '))\n",
    "\n",
    "da  = basic * 0.75\n",
    "hra = basic * 0.2\n",
    "\n",
    "if basic < 10000:\n",
    "    print('Gross salary is %.2f' % (da + basic)) \n",
    "elif basic >= 10000 and basic < 20000:\n",
    "    print('Gross salary is %.2f' % (da + basic + 0.5*hra))\n",
    "else:\n",
    "    print('Gross salary is %.2f' % (basic + da + hra))"
   ]
  },
  {
   "cell_type": "markdown",
   "id": "2e92b077-be6e-4f4d-8118-db13408f480a",
   "metadata": {},
   "source": [
    "#### 7. Write a program to read a number from user and find the factorial of the number.\n",
    "---\n",
    "Example: Factorial for 5 = 5 x 4 x 3 x 2 x 1 = 120"
   ]
  },
  {
   "cell_type": "code",
   "execution_count": 20,
   "id": "711d4b4e-5b3b-4064-87dc-e8c585814a6b",
   "metadata": {},
   "outputs": [
    {
     "name": "stdin",
     "output_type": "stream",
     "text": [
      "Enter any positive integer:  5\n"
     ]
    },
    {
     "name": "stdout",
     "output_type": "stream",
     "text": [
      "Factorial of 5 is 120\n"
     ]
    }
   ],
   "source": [
    "num = int(input('Enter any positive integer: '))\n",
    "\n",
    "def factorial(num):\n",
    "    if num <= 1:\n",
    "        return 1\n",
    "    return num * factorial(num - 1)\n",
    "\n",
    "print('Factorial of %d is %d' % (num, factorial(num)))"
   ]
  },
  {
   "cell_type": "markdown",
   "id": "148341e9-0769-4761-b144-66f9abce0417",
   "metadata": {},
   "source": [
    "#### 8. Write a program to read num1 and num2 from keyboard and find addition of all number between that range. "
   ]
  },
  {
   "cell_type": "code",
   "execution_count": 2,
   "id": "de8ed246-4269-480a-b347-f49423fe4c08",
   "metadata": {},
   "outputs": [
    {
     "name": "stdin",
     "output_type": "stream",
     "text": [
      "Enter any positive integer (num 1: lower range):  20\n",
      "Enter any positive integer (num 2: upper range):  1\n"
     ]
    },
    {
     "name": "stdout",
     "output_type": "stream",
     "text": [
      "Sum of all integers between 20 and 1 is 0\n"
     ]
    }
   ],
   "source": [
    "num_1 = int(input('Enter any positive integer (num 1: lower range): '))\n",
    "num_2 = int(input('Enter any positive integer (num 2: upper range): '))\n",
    "\n",
    "range_sum = 0\n",
    "for num in range(num_1, num_2 + 1):\n",
    "    range_sum += num\n",
    "\n",
    "print('Sum of all integers between %d and %d is %d' % (num_1, num_2, range_sum))"
   ]
  },
  {
   "cell_type": "markdown",
   "id": "12219077-a167-442b-958a-1addfbce2835",
   "metadata": {},
   "source": [
    "#### 9. See the tuple given: num = (56,2,35,41,43,48,32,56,71,55,68). \n",
    "#### Write a program to create two lists from it where first list contains only even numbers and second will contain only odd numbers.\n"
   ]
  },
  {
   "cell_type": "code",
   "execution_count": 23,
   "id": "b43c19d4-d19b-49c5-b76f-d6048ea9d5f1",
   "metadata": {},
   "outputs": [
    {
     "name": "stdout",
     "output_type": "stream",
     "text": [
      "Even List:  [56, 2, 48, 32, 56, 68]\n",
      "Odd List:  [35, 41, 43, 71, 55]\n"
     ]
    }
   ],
   "source": [
    "num = (56,2,35,41,43,48,32,56,71,55,68)\n",
    "\n",
    "even = []\n",
    "odd  = []\n",
    "\n",
    "for n in num:\n",
    "    if n % 2 == 0:\n",
    "        even.append(n)\n",
    "    else:\n",
    "        odd.append(n)\n",
    "\n",
    "print('Even List: ', even)\n",
    "print('Odd List: ', odd)"
   ]
  },
  {
   "cell_type": "markdown",
   "id": "76d4129a-3675-4474-afe5-90a7b41dfe7b",
   "metadata": {},
   "source": [
    "#### 10. Write a program to read a number from user. Create and use a user defined function to check whether it is odd or even?"
   ]
  },
  {
   "cell_type": "code",
   "execution_count": 24,
   "id": "2971567a-a615-438c-a83e-724c8578c15f",
   "metadata": {},
   "outputs": [
    {
     "name": "stdin",
     "output_type": "stream",
     "text": [
      "Enter any integer:  23\n"
     ]
    },
    {
     "name": "stdout",
     "output_type": "stream",
     "text": [
      "The number you have entered is odd\n"
     ]
    }
   ],
   "source": [
    "def is_even(num):\n",
    "    if num % 2 == 0:\n",
    "        return True\n",
    "    return False\n",
    "\n",
    "num = int(input('Enter any integer: '))\n",
    "\n",
    "if is_even(num):\n",
    "    print('The number you have entered is even')\n",
    "else:\n",
    "    print('The number you have entered is odd')"
   ]
  },
  {
   "cell_type": "markdown",
   "id": "87b23938-2d6d-4402-9362-6b8b8cf89a10",
   "metadata": {},
   "source": [
    "#### 11. Write a program to read a number from user and find the square root, sin, tan, log and factorial of this number using math module."
   ]
  },
  {
   "cell_type": "code",
   "execution_count": 26,
   "id": "7b5499ee-c8fc-4403-8812-0340f5e196d3",
   "metadata": {},
   "outputs": [
    {
     "name": "stdin",
     "output_type": "stream",
     "text": [
      "Enter any integer:  2\n"
     ]
    },
    {
     "name": "stdout",
     "output_type": "stream",
     "text": [
      "sqrt(2) = 1.414\n",
      "sin(2) = 0.909\n",
      "tan(2) = -2.185\n",
      "log(2) = 0.693\n",
      "factorial(2) = 2.000\n"
     ]
    }
   ],
   "source": [
    "import math\n",
    "\n",
    "num = int(input('Enter any integer: '))\n",
    "\n",
    "print('sqrt(%d) = %.3f' % (num, math.sqrt(num)))\n",
    "print('sin(%d) = %.3f' % (num, math.sin(num)))\n",
    "print('tan(%d) = %.3f' % (num, math.tan(num)))\n",
    "print('log(%d) = %.3f' % (num, math.log(num)))\n",
    "print('factorial(%d) = %.3f' % (num, math.factorial(num)))"
   ]
  },
  {
   "cell_type": "markdown",
   "id": "0410165c-7c97-43fa-9e6c-5877c9fe021f",
   "metadata": {},
   "source": [
    "#### 12. Write a Python class named ‘Rectangle’ with two attributes length and width and a method named ‘calculate’ which will compute the area of a rectangle. \n",
    "#### Create an object to pass length and width and call the method to calculate the area of rectangle. "
   ]
  },
  {
   "cell_type": "code",
   "execution_count": 31,
   "id": "d443d968-3795-4bf4-9d0d-f53402663e0e",
   "metadata": {},
   "outputs": [
    {
     "name": "stdout",
     "output_type": "stream",
     "text": [
      "Area of rectangle is 6.00\n"
     ]
    }
   ],
   "source": [
    "class Rectangle():\n",
    "    def __init__(self, length=0, width=0):\n",
    "        self.length = length\n",
    "        self.width  = width\n",
    "\n",
    "    def calculate(self):\n",
    "        return self.length*self.width\n",
    "\n",
    "rect_1 = Rectangle(2, 3)\n",
    "print('Area of rectangle is %.2f' % (rect_1.calculate()))"
   ]
  },
  {
   "cell_type": "code",
   "execution_count": null,
   "id": "a20209ec-bd6d-4e1e-b983-ef519c837afb",
   "metadata": {},
   "outputs": [],
   "source": []
  }
 ],
 "metadata": {
  "kernelspec": {
   "display_name": "Python 3 (ipykernel)",
   "language": "python",
   "name": "python3"
  },
  "language_info": {
   "codemirror_mode": {
    "name": "ipython",
    "version": 3
   },
   "file_extension": ".py",
   "mimetype": "text/x-python",
   "name": "python",
   "nbconvert_exporter": "python",
   "pygments_lexer": "ipython3",
   "version": "3.12.5"
  }
 },
 "nbformat": 4,
 "nbformat_minor": 5
}
