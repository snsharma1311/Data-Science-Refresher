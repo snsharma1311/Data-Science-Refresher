{
 "cells": [
  {
   "cell_type": "code",
   "execution_count": 1,
   "id": "bab8dd62-d00c-43fc-b123-1f0899c51521",
   "metadata": {},
   "outputs": [],
   "source": [
    "def coin_flip_probability():\n",
    "    heads_probability = 1 / 2\n",
    "    return heads_probability\n",
    "def rolling_dice_probability(number):\n",
    "    if number not in range(1, 7):\n",
    "        raise ValueError('Number must be between 1 & 6')\n",
    "    probability = 1 / 6\n",
    "    return probability"
   ]
  },
  {
   "cell_type": "code",
   "execution_count": 3,
   "id": "0b5b11e7-7255-4d00-8a87-e2dc8455905c",
   "metadata": {},
   "outputs": [
    {
     "data": {
      "text/plain": [
       "0.16666666666666666"
      ]
     },
     "execution_count": 3,
     "metadata": {},
     "output_type": "execute_result"
    }
   ],
   "source": [
    "rolling_dice_probability(1)"
   ]
  },
  {
   "cell_type": "code",
   "execution_count": 4,
   "id": "7f9e35fd-1faa-4da5-8937-60d84ed43102",
   "metadata": {},
   "outputs": [],
   "source": [
    "import random\n",
    "import pandas as pd"
   ]
  },
  {
   "cell_type": "code",
   "execution_count": 5,
   "id": "9e52c910-9638-49c7-a41c-0b050efdd092",
   "metadata": {},
   "outputs": [],
   "source": [
    "def simulate_coin_flips(num_flips):\n",
    "    results = []\n",
    "    for _ in range(num_flips):\n",
    "        results.append(random.choice(['heads', 'tails']))\n",
    "    return results"
   ]
  },
  {
   "cell_type": "code",
   "execution_count": 9,
   "id": "a2b919c7-0772-46ec-b9b6-ac91e15d024b",
   "metadata": {},
   "outputs": [
    {
     "data": {
      "text/plain": [
       "heads    51\n",
       "tails    49\n",
       "Name: count, dtype: int64"
      ]
     },
     "execution_count": 9,
     "metadata": {},
     "output_type": "execute_result"
    }
   ],
   "source": [
    "pd.Series(simulate_coin_flips(100)).value_counts()"
   ]
  },
  {
   "cell_type": "code",
   "execution_count": 13,
   "id": "f6421a3f-8f86-41ba-a018-3f1cdb6f5603",
   "metadata": {},
   "outputs": [],
   "source": [
    "def calculate_experimental_probabilities(results, event):\n",
    "    event_count = results.count(event)\n",
    "    return event_count / len(results)"
   ]
  },
  {
   "cell_type": "code",
   "execution_count": 16,
   "id": "e03b15d2-2c00-49ea-a40b-45afb35b5837",
   "metadata": {},
   "outputs": [
    {
     "data": {
      "text/plain": [
       "0.499"
      ]
     },
     "execution_count": 16,
     "metadata": {},
     "output_type": "execute_result"
    }
   ],
   "source": [
    "calculate_experimental_probabilities(simulate_coin_flips(1000), 'heads')"
   ]
  },
  {
   "cell_type": "code",
   "execution_count": null,
   "id": "263f83b7-7f92-42c3-91de-835ae3a72238",
   "metadata": {},
   "outputs": [],
   "source": []
  }
 ],
 "metadata": {
  "kernelspec": {
   "display_name": "Python 3 (ipykernel)",
   "language": "python",
   "name": "python3"
  },
  "language_info": {
   "codemirror_mode": {
    "name": "ipython",
    "version": 3
   },
   "file_extension": ".py",
   "mimetype": "text/x-python",
   "name": "python",
   "nbconvert_exporter": "python",
   "pygments_lexer": "ipython3",
   "version": "3.12.5"
  }
 },
 "nbformat": 4,
 "nbformat_minor": 5
}
