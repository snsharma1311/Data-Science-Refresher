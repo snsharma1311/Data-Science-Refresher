{
 "cells": [
  {
   "cell_type": "markdown",
   "id": "8da6649d-1ada-4bfa-b628-490d413130ce",
   "metadata": {},
   "source": [
    "# Refresher Course on - Data Science\n",
    "## Assignment : 5"
   ]
  },
  {
   "cell_type": "code",
   "execution_count": 1,
   "id": "296487a2-266b-4b75-8f02-fb21452d8e87",
   "metadata": {},
   "outputs": [],
   "source": [
    "import pandas as pd\n",
    "import numpy as np\n",
    "import matplotlib.pyplot as plt"
   ]
  },
  {
   "cell_type": "markdown",
   "id": "1119dcad-8879-41ef-bd98-aa81614ce7bc",
   "metadata": {},
   "source": [
    "#### 1. Dataset: product-info.csv containing columns like Product ID, Product Name, Price, Quantity Sold, and Sales Date.\n",
    "#### Problem: Write a Python program to calculate the total sales, average sales price, and the standard deviation of sales prices. Additionally, identify the product with the highest and lowest average sales price."
   ]
  },
  {
   "cell_type": "code",
   "execution_count": 8,
   "id": "fa787077-44f2-46f8-8908-c662ef578187",
   "metadata": {},
   "outputs": [
    {
     "name": "stdout",
     "output_type": "stream",
     "text": [
      "Total sales:  360\n",
      "Average sales price:  1.291388888888889\n",
      "Standard deviation of sales price:  29.91190769948019\n",
      "Product with lowest average price:  Orange Socks\n",
      "Product with highest average price:  Green Jacket\n"
     ]
    }
   ],
   "source": [
    "product_df = pd.read_csv('dataset/product-info.csv')\n",
    "\n",
    "total_sales = product_df['Quantity Sold'].sum()\n",
    "print ('Total sales: ', total_sales)\n",
    "\n",
    "avg_sales_price = product_df['Price'].sum() / total_sales\n",
    "print ('Average sales price: ', avg_sales_price)\n",
    "\n",
    "print ('Standard deviation of sales price: ', product_df['Price'].std())\n",
    "\n",
    "product_df['avg_price'] = product_df['Price'] / product_df['Quantity Sold']\n",
    "product_df = product_df.sort_values('avg_price')\n",
    "print ('Product with lowest average price: ', product_df.iloc[0]['Product Name'])\n",
    "print ('Product with highest average price: ', product_df.iloc[-1]['Product Name'])"
   ]
  },
  {
   "cell_type": "markdown",
   "id": "edaf94a0-fdb2-4a97-9b6e-4e7abb70d9df",
   "metadata": {},
   "source": [
    "#### 2. Dataset: A CSV file customer-satisfaction.csv with columns such as Customer ID, Satisfaction Rating (scale of 1-10), Age, and Gender.\n",
    "#### Problem: Create a Python program to calculate the mean, median, and mode of the satisfaction ratings. Analyze the data by grouping it by age groups and gender to identify any trends."
   ]
  },
  {
   "cell_type": "code",
   "execution_count": 49,
   "id": "787a5e4c-f8a3-4c3c-8b8b-15feac49fc50",
   "metadata": {},
   "outputs": [
    {
     "data": {
      "text/plain": [
       "\"\\ncustomer_df = pd.read_csv('dataset/customer-satisfaction.csv')\\n\\nprint ('Satisfactory Rating Mean {}, Median {}, Mode {}' % (customer_df['Satisfaction Rating'].mean(), customer_df['Satisfaction Rating'].median(), customer_df['Satisfaction Rating'].mode()))\\n\\nage_group = customer_df.groupby('Age')\\nprint ('Group by Age')\\nprint ('Mean:')\\nprint (age_group.agg({'Satisfaction Rating': 'mean'}))\\nprint ('Median:')\\nprint (age_group.agg({'Satisfaction Rating': 'median'}))\\nprint ('Mode:')\\nprint (age_group.agg({'Satisfaction Rating': 'mode'}))\\n\\ngender_group = customer_df.groupby('Gender')\\nprint ('Group by Gender')\\nprint ('Mean:')\\nprint (gender_group.agg({'Satisfaction Rating': 'mean'}))\\nprint ('Median:')\\nprint (gender_group.agg({'Satisfaction Rating': 'median'}))\\nprint ('Mode:')\\nprint (gender_group.agg({'Satisfaction Rating': 'mode'}))\""
      ]
     },
     "execution_count": 49,
     "metadata": {},
     "output_type": "execute_result"
    }
   ],
   "source": [
    "'''\n",
    "customer_df = pd.read_csv('dataset/customer-satisfaction.csv')\n",
    "\n",
    "print ('Satisfactory Rating Mean {}, Median {}, Mode {}' % (customer_df['Satisfaction Rating'].mean(), customer_df['Satisfaction Rating'].median(), customer_df['Satisfaction Rating'].mode()))\n",
    "\n",
    "age_group = customer_df.groupby('Age')\n",
    "print ('Satisfaction rating group by Age')\n",
    "print ('Mean:')\n",
    "print (age_group.agg({'Satisfaction Rating': 'mean'}))\n",
    "print ('Median:')\n",
    "print (age_group.agg({'Satisfaction Rating': 'median'}))\n",
    "print ('Mode:')\n",
    "print (age_group.agg({'Satisfaction Rating': 'mode'}))\n",
    "\n",
    "gender_group = customer_df.groupby('Gender')\n",
    "print ('Satisfaction rating group by Gender')\n",
    "print ('Mean:')\n",
    "print (gender_group.agg({'Satisfaction Rating': 'mean'}))\n",
    "print ('Median:')\n",
    "print (gender_group.agg({'Satisfaction Rating': 'median'}))\n",
    "print ('Mode:')\n",
    "print (gender_group.agg({'Satisfaction Rating': 'mode'}))'''"
   ]
  },
  {
   "cell_type": "markdown",
   "id": "e93f60ed-0c4b-4c53-a8c9-6a67eeeb5fc0",
   "metadata": {},
   "source": [
    "#### 3. Dataset: A CSV file house-info.csv containing columns such as House ID, Location, Number of Bedrooms, Square Footage, and Price.\n",
    "#### Problem: Develop a Python program to calculate the first, second (median), and third quartiles of house prices. Also, compute the interquartile range (IQR) and identify any outliers in the dataset."
   ]
  },
  {
   "cell_type": "code",
   "execution_count": 15,
   "id": "d0e8a838-bb14-43f7-a8ac-6bf3ca61ba12",
   "metadata": {},
   "outputs": [
    {
     "name": "stdout",
     "output_type": "stream",
     "text": [
      "First Quartile:  290000.0\n",
      "Second Quartile:  330000.0\n",
      "Third Quartile:  410000.0\n",
      "IQR:  120000.0\n",
      "Outliers: \n",
      "     House ID  Location  Number of Bedrooms  Square Footage   Price\n",
      "12        13  Suburban                   3            1500  900000\n",
      "20        21     Rural                   4            3000  950000\n"
     ]
    }
   ],
   "source": [
    "house_df = pd.read_csv('dataset/house-info.csv')\n",
    "\n",
    "house_df['Price'] = pd.Series([int(x[1:4]+x[5:]) for x in list(house_df['Price'])])\n",
    "\n",
    "Q1 = np.percentile(house_df['Price'], 25)\n",
    "Q2 = np.percentile(house_df['Price'], 50)\n",
    "Q3 = np.percentile(house_df['Price'], 75)\n",
    "IQR = Q3 - Q1\n",
    "\n",
    "print ('First Quartile: ', Q1)\n",
    "print ('Second Quartile: ', Q2)\n",
    "print ('Third Quartile: ', Q3)\n",
    "print ('IQR: ', IQR)\n",
    "\n",
    "upper_fence = Q3 + 1.5 * IQR\n",
    "lower_fence = Q1 - 1.5 * IQR\n",
    "\n",
    "outliers = house_df.loc[(house_df['Price'] > upper_fence) | (house_df['Price'] < lower_fence)]\n",
    "print ('Outliers: \\n', outliers)"
   ]
  },
  {
   "cell_type": "markdown",
   "id": "70d60de2-4dbe-4d80-a0ab-101c01c3ffd0",
   "metadata": {},
   "source": [
    "#### 4. Dataset: A CSV file visitor-info.csv with columns such as Date, Number of Visitors, Average Session Duration, Bounce Rate, and Conversion Rate.\n",
    "#### Problem: Create a Python program to analyze the average, minimum, and maximum number of visitors per day. Investigate the relationship between bounce rate and conversion rate using correlation analysis."
   ]
  },
  {
   "cell_type": "code",
   "execution_count": 48,
   "id": "0279dae8-dcb2-4a85-a1cb-af6f95b6652d",
   "metadata": {},
   "outputs": [
    {
     "name": "stdout",
     "output_type": "stream",
     "text": [
      "Average number of visitor per day:  5248.275862068966\n",
      "Minimum number of visitor in any day:  ('2023-12-02', 4500)\n",
      "Maximum number of visitor in any day:  ('2023-12-23', 6200)\n",
      "Correlation coeff between bounce rate and conversion rate:  -0.8166050475362997\n",
      "Since correlation is -0.81, they are highly correlated and it is negative that means if one goes up other goes down.\n"
     ]
    }
   ],
   "source": [
    "visitor_df = pd.read_csv('dataset/visitor-info.csv')\n",
    "\n",
    "print ('Average number of visitor per day: ', visitor_df['Number of Visitors'].mean())\n",
    "\n",
    "visitor_df = visitor_df.sort_values('Number of Visitors')\n",
    "print ('Minimum number of visitor in any day: ', (visitor_df.iloc[0]['Date'], int(visitor_df.iloc[0]['Number of Visitors'])))\n",
    "print ('Maximum number of visitor in any day: ', (visitor_df.iloc[-1]['Date'], int(visitor_df.iloc[-1]['Number of Visitors'])))\n",
    "\n",
    "print ('Correlation coeff between bounce rate and conversion rate: ', visitor_df[['Bounce Rate (%)', 'Conversion Rate (%)']].corr()['Bounce Rate (%)']['Conversion Rate (%)'])\n",
    "print ('Since correlation is -0.81, they are highly correlated and it is negative that means if one goes up other goes down.')"
   ]
  },
  {
   "cell_type": "markdown",
   "id": "e4d5f1b1-6e23-47be-be96-5e4c126031e6",
   "metadata": {},
   "source": [
    "#### 5. Dataset: A dataset with columns (purchase-info.csv) such as Customer ID, Purchase Amount, Purchase Date, and Category.\n",
    "#### Problem: Develop a Python program to calculate the average purchase amount for each category. Also, find the most frequent purchase category and the customer who made the most purchases."
   ]
  },
  {
   "cell_type": "code",
   "execution_count": 29,
   "id": "26ad9805-f14c-4f12-9fb2-467b17a466cc",
   "metadata": {},
   "outputs": [
    {
     "name": "stdout",
     "output_type": "stream",
     "text": [
      "Average amount for each category: \n",
      "              Purchase Amount\n",
      "Category                    \n",
      "Clothing                37.8\n",
      "Electronics             29.7\n",
      "Home Goods              69.9\n",
      "\n",
      "In every category there is exactly 10 purchases\n",
      "\n",
      "Most frequent purchase category: \n",
      "              Category\n",
      "Category             \n",
      "Clothing           10\n",
      "Electronics        10\n",
      "Home Goods         10\n",
      "\n",
      "Each customer has made exactly 1 purchase\n",
      "\n",
      "Customer with frequent purchase: \n",
      "              Category\n",
      "Customer ID          \n",
      "1001                1\n",
      "1002                1\n",
      "1003                1\n",
      "1004                1\n",
      "1005                1\n",
      "1006                1\n",
      "1007                1\n",
      "1008                1\n",
      "1009                1\n",
      "1010                1\n",
      "1011                1\n",
      "1012                1\n",
      "1013                1\n",
      "1014                1\n",
      "1015                1\n",
      "1016                1\n",
      "1017                1\n",
      "1018                1\n",
      "1019                1\n",
      "1020                1\n",
      "1021                1\n",
      "1022                1\n",
      "1023                1\n",
      "1024                1\n",
      "1025                1\n",
      "1026                1\n",
      "1027                1\n",
      "1028                1\n",
      "1029                1\n",
      "1030                1\n"
     ]
    }
   ],
   "source": [
    "purchase_df = pd.read_csv('dataset/purchase-info.csv')\n",
    "\n",
    "print ('Average amount for each category: \\n', purchase_df.groupby('Category').agg({'Purchase Amount':'mean'}))\n",
    "\n",
    "print ('\\nIn every category there is exactly 10 purchases')\n",
    "print ('\\nMost frequent purchase category: \\n', purchase_df.groupby('Category').agg({'Category':'count'}))\n",
    "\n",
    "print ('\\nEach customer has made exactly 1 purchase')\n",
    "print ('\\nCustomer with frequent purchase: \\n', purchase_df.groupby('Customer ID').agg({'Category':'count'}))"
   ]
  },
  {
   "cell_type": "code",
   "execution_count": null,
   "id": "6a01e898-4071-4428-9e26-38d6d69d833a",
   "metadata": {},
   "outputs": [],
   "source": []
  }
 ],
 "metadata": {
  "kernelspec": {
   "display_name": "Python 3 (ipykernel)",
   "language": "python",
   "name": "python3"
  },
  "language_info": {
   "codemirror_mode": {
    "name": "ipython",
    "version": 3
   },
   "file_extension": ".py",
   "mimetype": "text/x-python",
   "name": "python",
   "nbconvert_exporter": "python",
   "pygments_lexer": "ipython3",
   "version": "3.12.5"
  }
 },
 "nbformat": 4,
 "nbformat_minor": 5
}
